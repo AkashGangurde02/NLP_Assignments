{
  "nbformat": 4,
  "nbformat_minor": 0,
  "metadata": {
    "colab": {
      "provenance": [],
      "gpuType": "T4"
    },
    "kernelspec": {
      "name": "python3",
      "display_name": "Python 3"
    },
    "language_info": {
      "name": "python"
    },
    "accelerator": "GPU"
  },
  "cells": [
    {
      "cell_type": "code",
      "execution_count": null,
      "metadata": {
        "colab": {
          "base_uri": "https://localhost:8080/"
        },
        "id": "2FUd3eadQzxs",
        "outputId": "36cb7a68-e997-477a-a887-8a4e02e41c04"
      },
      "outputs": [
        {
          "output_type": "stream",
          "name": "stderr",
          "text": [
            "[nltk_data] Downloading package punkt_tab to /root/nltk_data...\n",
            "[nltk_data]   Unzipping tokenizers/punkt_tab.zip.\n"
          ]
        },
        {
          "output_type": "execute_result",
          "data": {
            "text/plain": [
              "True"
            ]
          },
          "metadata": {},
          "execution_count": 2
        }
      ],
      "source": [
        "# Lab Assignment 6: Word Sense Disambiguation using Lesk Algorithm\n",
        "# •\tImplement the Lesk Algorithm for word sense disambiguation.\n",
        "# •\tTake an ambiguous word (e.g., \"bank\") and disambiguate its meaning based on context.\n",
        "# •\tUse WordNet for retrieving word definitions and related synsets.\n",
        "\n",
        "\n",
        "nltk.download('punkt_tab')"
      ]
    },
    {
      "cell_type": "code",
      "source": [
        "import nltk\n",
        "from nltk.corpus import wordnet\n",
        "from nltk.tokenize import word_tokenize\n",
        "\n",
        "def lesk_algorithm(context_sentence, ambiguous_word):\n",
        "    best_sense = None\n",
        "    max_overlap = 0\n",
        "    context = set(word_tokenize(context_sentence))\n",
        "\n",
        "    for sense in wordnet.synsets(ambiguous_word):\n",
        "        signature = set(word_tokenize(sense.definition()))\n",
        "        for example in sense.examples():\n",
        "            signature.update(word_tokenize(example))\n",
        "\n",
        "        overlap = len(context.intersection(signature))\n",
        "\n",
        "        if overlap > max_overlap:\n",
        "            max_overlap = overlap\n",
        "            best_sense = sense\n",
        "\n",
        "    return best_sense\n",
        "\n",
        "nltk.download('wordnet')\n",
        "nltk.download('punkt')\n",
        "\n",
        "sentence = \"I fount a shell at a bank of a river\"\n",
        "ambiguous_word = \"bank\"\n",
        "best_sense = lesk_algorithm(sentence, ambiguous_word)\n",
        "\n",
        "print(f\"Best Sense: {best_sense}\")\n",
        "print(f\"Definition: {best_sense.definition()}\")\n"
      ],
      "metadata": {
        "colab": {
          "base_uri": "https://localhost:8080/"
        },
        "id": "4nlykJxNT3Wd",
        "outputId": "2a96ed0a-f148-40e0-c878-db68fd77f527"
      },
      "execution_count": null,
      "outputs": [
        {
          "output_type": "stream",
          "name": "stderr",
          "text": [
            "[nltk_data] Downloading package wordnet to /root/nltk_data...\n",
            "[nltk_data] Downloading package punkt to /root/nltk_data...\n",
            "[nltk_data]   Unzipping tokenizers/punkt.zip.\n"
          ]
        },
        {
          "output_type": "stream",
          "name": "stdout",
          "text": [
            "Best Sense: Synset('bank.n.01')\n",
            "Definition: sloping land (especially the slope beside a body of water)\n"
          ]
        }
      ]
    },
    {
      "cell_type": "code",
      "source": [
        "print(f\"Best Sense: {best_sense}\")\n",
        "print(f\"Definition: {best_sense.definition()}\")"
      ],
      "metadata": {
        "colab": {
          "base_uri": "https://localhost:8080/"
        },
        "id": "swq-gztiV_a1",
        "outputId": "3dfc71d7-498e-4b43-f5a3-4c53d8b2f9f0"
      },
      "execution_count": null,
      "outputs": [
        {
          "output_type": "stream",
          "name": "stdout",
          "text": [
            "Best Sense: Synset('bank.n.01')\n",
            "Definition: sloping land (especially the slope beside a body of water)\n"
          ]
        }
      ]
    },
    {
      "cell_type": "code",
      "source": [],
      "metadata": {
        "id": "B4I9GXU7WBgD"
      },
      "execution_count": null,
      "outputs": []
    }
  ]
}