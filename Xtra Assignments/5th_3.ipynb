{
  "nbformat": 4,
  "nbformat_minor": 0,
  "metadata": {
    "colab": {
      "provenance": [],
      "gpuType": "T4"
    },
    "kernelspec": {
      "name": "python3",
      "display_name": "Python 3"
    },
    "language_info": {
      "name": "python"
    },
    "accelerator": "GPU"
  },
  "cells": [
    {
      "cell_type": "code",
      "execution_count": null,
      "metadata": {
        "colab": {
          "base_uri": "https://localhost:8080/"
        },
        "id": "CPPr2vBpKF5z",
        "outputId": "c495a6ea-d411-4fb5-8aad-d2e0cdd657ee"
      },
      "outputs": [
        {
          "output_type": "stream",
          "name": "stdout",
          "text": [
            "\n",
            "🔹 **English to Hindi Translations:**\n",
            "\n",
            "English: I am reading a book\n",
            "Hindi: मैं पढ़ रहा हूँ एक किताब\n",
            "\n",
            "English: You are playing football\n",
            "Hindi: तुम खेल रहा हूँ फुटबॉल\n",
            "\n",
            "English: He is drinking water\n",
            "Hindi: वह पी रहा हूँ पानी\n",
            "\n",
            "English: She is walking to the market\n",
            "Hindi: sवह चल रही है को यह बाजार\n",
            "\n",
            "English: We are learning Python\n",
            "Hindi: हम सीख रहा हूँ पायथन\n",
            "\n"
          ]
        }
      ],
      "source": [
        "# Lab Assignment 3: Implementing Rule-Based Machine Translation\n",
        "# •\tDesign a simple rule-based translation system from English to Hindi (or any Indian language).\n",
        "# •\tCreate basic grammar rules for sentence structure transformation.\n",
        "# •\tUse regular expressions and dictionaries for word translation.\n",
        "\n",
        "\n",
        "import re\n",
        "\n",
        "# Expanded English to Hindi dictionary\n",
        "en_hi_dict = {\n",
        "    \"i\": \"मैं\",\n",
        "    \"you\": \"तुम\",\n",
        "    \"he\": \"वह\",\n",
        "    \"she\": \"वह\",\n",
        "    \"we\": \"हम\",\n",
        "    \"they\": \"वे\",\n",
        "    \"am\": \"हूँ\",\n",
        "    \"is\": \"है\",\n",
        "    \"are\": \"हैं\",\n",
        "    \"reading\": \"पढ़ रहा हूँ\",\n",
        "    \"playing\": \"खेल रहा हूँ\",\n",
        "    \"drinking\": \"पी रहा हूँ\",\n",
        "    \"walking\": \"चल रही है\",\n",
        "    \"learning\": \"सीख रहा हूँ\",\n",
        "    \"a\": \"एक\",\n",
        "    \"the\": \"यह\",\n",
        "    \"to\": \"को\",\n",
        "    \"book\": \"किताब\",\n",
        "    \"football\": \"फुटबॉल\",\n",
        "    \"water\": \"पानी\",\n",
        "    \"market\": \"बाजार\",\n",
        "    \"python\": \"पायथन\"\n",
        "}\n",
        "\n",
        "# Improved sentence restructuring rules\n",
        "def translate_sentence(sentence):\n",
        "    sentence = sentence.lower().strip()\n",
        "\n",
        "    # Rule-based transformations for continuous tense\n",
        "    sentence = re.sub(r\"i am (\\w+ing)\", r\"मैं \\1\", sentence)\n",
        "    sentence = re.sub(r\"you are (\\w+ing)\", r\"तुम \\1\", sentence)\n",
        "    sentence = re.sub(r\"he is (\\w+ing)\", r\"वह \\1\", sentence)\n",
        "    sentence = re.sub(r\"she is (\\w+ing)\", r\"वह \\1\", sentence)\n",
        "    sentence = re.sub(r\"we are (\\w+ing)\", r\"हम \\1\", sentence)\n",
        "    sentence = re.sub(r\"they are (\\w+ing)\", r\"वे \\1\", sentence)\n",
        "\n",
        "    # Tokenize the sentence\n",
        "    words = sentence.split()\n",
        "\n",
        "    # Translate each word using the dictionary\n",
        "    translated_words = []\n",
        "    for word in words:\n",
        "        translated_words.append(en_hi_dict.get(word, word))  # Use word if not in dict\n",
        "\n",
        "    # Return the translated sentence\n",
        "    return \" \".join(translated_words)\n",
        "\n",
        "# ✅ Example Sentences\n",
        "sentences = [\n",
        "    \"I am reading a book\",\n",
        "    \"You are playing football\",\n",
        "    \"He is drinking water\",\n",
        "    \"She is walking to the market\",\n",
        "    \"We are learning Python\"\n",
        "]\n",
        "\n",
        "# Translation Output\n",
        "print(\"\\n🔹 **English to Hindi Translations:**\\n\")\n",
        "for sentence in sentences:\n",
        "    print(f\"English: {sentence}\")\n",
        "    print(f\"Hindi: {translate_sentence(sentence)}\\n\")\n"
      ]
    },
    {
      "cell_type": "code",
      "source": [],
      "metadata": {
        "id": "3aRKUuYeKarx"
      },
      "execution_count": null,
      "outputs": []
    },
    {
      "cell_type": "code",
      "source": [],
      "metadata": {
        "id": "xOHRplIWKeLb"
      },
      "execution_count": null,
      "outputs": []
    },
    {
      "cell_type": "code",
      "source": [],
      "metadata": {
        "id": "T8CvCYEDKlEf"
      },
      "execution_count": null,
      "outputs": []
    },
    {
      "cell_type": "code",
      "source": [],
      "metadata": {
        "id": "F1MD6zrKKtWQ"
      },
      "execution_count": null,
      "outputs": []
    }
  ]
}