{
  "nbformat": 4,
  "nbformat_minor": 0,
  "metadata": {
    "colab": {
      "provenance": []
    },
    "kernelspec": {
      "name": "python3",
      "display_name": "Python 3"
    },
    "language_info": {
      "name": "python"
    }
  },
  "cells": [
    {
      "cell_type": "code",
      "execution_count": null,
      "metadata": {
        "colab": {
          "base_uri": "https://localhost:8080/"
        },
        "id": "MZYZwnp0NbBd",
        "outputId": "fd10e49f-faa0-4a05-fe9b-a131a5dc4afb"
      },
      "outputs": [
        {
          "output_type": "stream",
          "name": "stdout",
          "text": [
            "Requirement already satisfied: scikit-learn in /usr/local/lib/python3.11/dist-packages (1.6.1)\n",
            "Requirement already satisfied: numpy>=1.19.5 in /usr/local/lib/python3.11/dist-packages (from scikit-learn) (2.0.2)\n",
            "Requirement already satisfied: scipy>=1.6.0 in /usr/local/lib/python3.11/dist-packages (from scikit-learn) (1.14.1)\n",
            "Requirement already satisfied: joblib>=1.2.0 in /usr/local/lib/python3.11/dist-packages (from scikit-learn) (1.4.2)\n",
            "Requirement already satisfied: threadpoolctl>=3.1.0 in /usr/local/lib/python3.11/dist-packages (from scikit-learn) (3.6.0)\n"
          ]
        }
      ],
      "source": [
        "# Lab Assignment 1: Implementing the Vector Space Model for Information Retrieval\n",
        "# •\tImplement a simple search engine using the TF-IDF vectorization method.\n",
        "# •\tUse a small dataset of documents and allow the user to input a query.\n",
        "# •\tCompute cosine similarity to retrieve the most relevant documents.\n",
        "# •\tUse Scikit-learn’s TfidfVectorizer for vectorization.\n",
        "\n",
        "\n",
        "# Install dependencies (if not already installed)\n",
        "!pip install scikit-learn"
      ]
    },
    {
      "cell_type": "code",
      "source": [
        "# Import necessary libraries\n",
        "from sklearn.feature_extraction.text import TfidfVectorizer\n",
        "from sklearn.metrics.pairwise import cosine_similarity\n",
        "import numpy as np"
      ],
      "metadata": {
        "id": "vDyy4pEqOxVj"
      },
      "execution_count": null,
      "outputs": []
    },
    {
      "cell_type": "code",
      "source": [
        "# Sample dataset of documents\n",
        "documents = [\n",
        "    \"The sky is blue and beautiful.\",\n",
        "    \"Love this blue and beautiful sky!\",\n",
        "    \"The quick brown fox jumps over the lazy dog.\",\n",
        "    \"A king's breakfast has sausages, ham, and bacon.\",\n",
        "    \"I love green eggs, ham, sausages, and bacon!\",\n",
        "    \"The brown fox is quick and the blue dog is lazy!\",\n",
        "    \"The sky is very blue and the sky is very beautiful today.\",\n",
        "    \"The dog is lazy but the brown fox is quick.\"\n",
        "]"
      ],
      "metadata": {
        "id": "USW2d7lMO1aI"
      },
      "execution_count": null,
      "outputs": []
    },
    {
      "cell_type": "code",
      "source": [
        "# User input query\n",
        "query = input(\"Enter your search query: \")"
      ],
      "metadata": {
        "colab": {
          "base_uri": "https://localhost:8080/"
        },
        "id": "Z1ol1hyyO3cP",
        "outputId": "eec1d702-0ff3-4686-e1a0-f03ddf00fc17"
      },
      "execution_count": null,
      "outputs": [
        {
          "name": "stdout",
          "output_type": "stream",
          "text": [
            "Enter your search query: what is color of sky\n"
          ]
        }
      ]
    },
    {
      "cell_type": "code",
      "source": [
        "# Create the TF-IDF vectorizer\n",
        "vectorizer = TfidfVectorizer()\n",
        "\n",
        "# Fit and transform documents + query\n",
        "tfidf_matrix = vectorizer.fit_transform(documents + [query])\n",
        "\n",
        "# Calculate cosine similarity between query and all documents\n",
        "cosine_sim = cosine_similarity(tfidf_matrix[-1], tfidf_matrix[:-1])\n",
        "\n",
        "# Flatten and sort by similarity\n",
        "similarity_scores = cosine_sim.flatten()\n",
        "ranked_indices = similarity_scores.argsort()[::-1]"
      ],
      "metadata": {
        "id": "-c5Qjuk0O69g"
      },
      "execution_count": null,
      "outputs": []
    },
    {
      "cell_type": "code",
      "source": [
        "# Display top 5 results\n",
        "print(\"\\nTop matching documents:\")\n",
        "for idx in ranked_indices[:5]:\n",
        "    print(f\"\\nScore: {similarity_scores[idx]:.4f}\")\n",
        "    print(f\"Document {idx+1}: {documents[idx]}\")"
      ],
      "metadata": {
        "colab": {
          "base_uri": "https://localhost:8080/"
        },
        "id": "-8HN1wTrPCz4",
        "outputId": "60faaf18-88f9-4d10-fdc6-a2cdc36c5f2b"
      },
      "execution_count": null,
      "outputs": [
        {
          "output_type": "stream",
          "name": "stdout",
          "text": [
            "\n",
            "Top matching documents:\n",
            "\n",
            "Score: 0.2561\n",
            "Document 1: The sky is blue and beautiful.\n",
            "\n",
            "Score: 0.2397\n",
            "Document 7: The sky is very blue and the sky is very beautiful today.\n",
            "\n",
            "Score: 0.1404\n",
            "Document 6: The brown fox is quick and the blue dog is lazy!\n",
            "\n",
            "Score: 0.1370\n",
            "Document 8: The dog is lazy but the brown fox is quick.\n",
            "\n",
            "Score: 0.1184\n",
            "Document 2: Love this blue and beautiful sky!\n"
          ]
        }
      ]
    },
    {
      "cell_type": "code",
      "source": [],
      "metadata": {
        "id": "7ud7mIcoPElx"
      },
      "execution_count": null,
      "outputs": []
    }
  ]
}