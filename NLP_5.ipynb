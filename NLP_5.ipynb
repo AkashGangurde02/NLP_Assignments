{
  "nbformat": 4,
  "nbformat_minor": 0,
  "metadata": {
    "colab": {
      "provenance": [],
      "gpuType": "T4"
    },
    "kernelspec": {
      "name": "python3",
      "display_name": "Python 3"
    },
    "language_info": {
      "name": "python"
    },
    "accelerator": "GPU"
  },
  "cells": [
    {
      "cell_type": "code",
      "execution_count": 3,
      "metadata": {
        "id": "hI2QFuinYYbZ"
      },
      "outputs": [],
      "source": [
        "morphology_rules = {\n",
        "    \"happy\": {\"add_suffix\": \"ness\", \"delete_suffix\": \"y\", \"replace\": \"i\", \"new_word\": \"happiness\"},\n",
        "    \"teach\": {\"add_suffix\": \"er\", \"delete_suffix\": \"er\", \"replace\": \"\", \"new_word\": \"teacher\"},\n",
        "    \"kind\": {\"add_prefix\": \"un\", \"delete_prefix\": \"un\", \"replace\": \"\", \"new_word\": \"unkind\"},\n",
        "    \"act\": {\"add_prefix\": \"re\", \"delete_prefix\": \"re\", \"replace\": \"\", \"new_word\": \"react\"},\n",
        "    \"friend\": {\"add_suffix\": \"ship\", \"delete_suffix\": \"ship\", \"replace\": \"\", \"new_word\": \"friendship\"},\n",
        "    \"move\": {\"add_suffix\": \"ment\", \"delete_suffix\": \"ment\", \"replace\": \"\", \"new_word\": \"movement\"},\n",
        "    \"legal\": {\"add_suffix\": \"ize\", \"delete_suffix\": \"ize\", \"replace\": \"\", \"new_word\": \"legalize\"},\n",
        "    \"child\": {\"add_suffix\": \"hood\", \"delete_suffix\": \"hood\", \"replace\": \"\", \"new_word\": \"childhood\"},\n",
        "    \"agree\": {\"add_prefix\": \"dis\", \"delete_prefix\": \"dis\", \"replace\": \"\", \"new_word\": \"disagree\"},\n",
        "    \"able\": {\"add_suffix\": \"ity\", \"delete_suffix\": \"ity\", \"replace\": \"\", \"new_word\": \"ability\"}\n",
        "}"
      ]
    },
    {
      "cell_type": "code",
      "source": [
        "def apply_morphology(word, action):\n",
        "    if word in morphology_rules:\n",
        "        rule = morphology_rules[word]\n",
        "\n",
        "        if action == \"add\":\n",
        "            if \"add_suffix\" in rule:\n",
        "                if rule[\"replace\"]:\n",
        "                    return word.replace(rule[\"delete_suffix\"], rule[\"replace\"]) + rule[\"add_suffix\"]\n",
        "                return word + rule[\"add_suffix\"]\n",
        "\n",
        "            if \"add_prefix\" in rule:\n",
        "                return rule[\"add_prefix\"] + word\n",
        "\n",
        "        elif action == \"delete\":  # Fixed indentation\n",
        "            if \"delete_suffix\" in rule:\n",
        "                if rule[\"replace\"]:\n",
        "                    return word.replace(rule[\"replace\"], rule[\"delete_suffix\"])\n",
        "                return word.replace(rule[\"delete_suffix\"], \"\")\n",
        "\n",
        "            if \"delete_prefix\" in rule and word.startswith(rule[\"delete_prefix\"]):\n",
        "                return word[len(rule[\"delete_prefix\"]):]\n",
        "\n",
        "    return word\n"
      ],
      "metadata": {
        "id": "JkMhaAF9Yi9U"
      },
      "execution_count": 4,
      "outputs": []
    },
    {
      "cell_type": "code",
      "source": [
        "words = list(morphology_rules.keys())\n",
        "\n",
        "print(f\"{'Base Word':<10} {'Add Morpheme':<15} {'New Word':<15} {'Delete Morpheme':<15} {'Word After Deletion':<15}\")\n",
        "print(\"=\"*75)\n",
        "\n",
        "for word in words:\n",
        "    new_word = apply_morphology(word, \"add\")\n",
        "    deleted_word = apply_morphology(new_word, \"delete\")\n",
        "\n",
        "    print(f\"{word:<10} {morphology_rules[word].get('add_prefix', '') + morphology_rules[word].get('add_suffix', ''):<15} \"\n",
        "          f\"{new_word:<15} {morphology_rules[word].get('delete_prefix', '') + morphology_rules[word].get('delete_suffix', ''):<15} \"\n",
        "          f\"{deleted_word:<15}\")\n",
        ""
      ],
      "metadata": {
        "colab": {
          "base_uri": "https://localhost:8080/"
        },
        "id": "W2Rb0MFoYsYg",
        "outputId": "694ab514-96eb-4ebf-aa3c-3085f4aed1cf"
      },
      "execution_count": 5,
      "outputs": [
        {
          "output_type": "stream",
          "name": "stdout",
          "text": [
            "Base Word  Add Morpheme    New Word        Delete Morpheme Word After Deletion\n",
            "===========================================================================\n",
            "happy      ness            happiness       y               happiness      \n",
            "teach      er              teacher         er              teacher        \n",
            "kind       un              unkind          un              unkind         \n",
            "act        re              react           re              react          \n",
            "friend     ship            friendship      ship            friendship     \n",
            "move       ment            movement        ment            movement       \n",
            "legal      ize             legalize        ize             legalize       \n",
            "child      hood            childhood       hood            childhood      \n",
            "agree      dis             disagree        dis             disagree       \n",
            "able       ity             ableity         ity             ableity        \n"
          ]
        }
      ]
    },
    {
      "cell_type": "code",
      "source": [],
      "metadata": {
        "id": "yjz9-lTNZF-A"
      },
      "execution_count": null,
      "outputs": []
    }
  ]
}